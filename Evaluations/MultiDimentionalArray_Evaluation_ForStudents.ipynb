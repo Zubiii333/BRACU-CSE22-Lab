{
  "cells": [
    {
      "cell_type": "markdown",
      "metadata": {
        "id": "kBcoGkNL5uGQ"
      },
      "source": [
        "**INSTRUCTIONS FOR STUDENTS:**\n",
        "\n",
        "*   YOU CANNOT USE ANY BUILT-IN FUNCTION EXCEPT len() IN PYTHON. [negative indexing, append is prohibited]\n",
        "*   YOUR CODE SHOULD WORK FOR ANY 2D ARRAYS.\n",
        "*   YOU CANNOT USE ANY OTHER PYTHON COLLECTIONS EXCEPT NUMPY ARRAY (TUPLE, DICTIONARIES ETC. NOT ALLOWED)\n",
        "*   CREATE A COPY OF THIS IPYNB FILE IN YOUR DRIVE FIRST AS CHANGES IN THE GIVEN IPYNB FILE WILL NOT BE SAVED."
      ]
    },
    {
      "cell_type": "code",
      "execution_count": 1,
      "metadata": {
        "id": "Zwl8SrHKqMm4"
      },
      "outputs": [],
      "source": [
        "#You must run this cell to print matrix and for the driver code to work\n",
        "def print_matrix(m):\n",
        "  row,col = m.shape\n",
        "  print('-'*(col*6)+'-')\n",
        "  for i in range(row):\n",
        "    c = 1\n",
        "    print('|', end='')\n",
        "    for j in range(col):\n",
        "      c += 1\n",
        "      if(len(str(m[i][j])) == 1):\n",
        "        print(' ',m[i][j], end = '  |')\n",
        "        c += 6\n",
        "      else:\n",
        "        print(' ',m[i][j], end = ' |')\n",
        "        c += 6\n",
        "    print()\n",
        "    print('-'*(c-col))"
      ]
    },
    {
      "cell_type": "markdown",
      "metadata": {
        "id": "10gjQgIPqpBh"
      },
      "source": [
        "**Game Arena**"
      ]
    },
    {
      "cell_type": "code",
      "execution_count": 13,
      "metadata": {
        "id": "UUpU5mvl0xTr"
      },
      "outputs": [
        {
          "name": "stdout",
          "output_type": "stream",
          "text": [
            "=============== Game 1 ===============\n",
            "-------------------------\n",
            "|  0  |  2  |  2  |  0  |\n",
            "-------------------------\n",
            "|  50 |  1  |  2  |  0  |\n",
            "-------------------------\n",
            "|  2  |  2  |  2  |  0  |\n",
            "-------------------------\n",
            "|  1  |  100 |  2  |  0  |\n",
            "-------------------------\n",
            "Points Gained: 6. Your team is out.\n",
            "\n",
            "=============== Game 2 ===============\n",
            "-------------------------------\n",
            "|  0  |  2  |  2  |  0  |  2  |\n",
            "-------------------------------\n",
            "|  1  |  50 |  2  |  1  |  100 |\n",
            "-------------------------------\n",
            "|  2  |  2  |  2  |  0  |  2  |\n",
            "-------------------------------\n",
            "|  0  |  200 |  2  |  0  |  0  |\n",
            "-------------------------------\n",
            "Points Gained: 14. Your team has survived the game.\n"
          ]
        }
      ],
      "source": [
        "import numpy as np\n",
        "\n",
        "#Do not change the return statement or the parameters of the gainPoints function..\n",
        "\n",
        "def gainPoints(arr):\n",
        "  row, col = arr.shape\n",
        "  gained_points = 0\n",
        "\n",
        "  for i in range(row):\n",
        "    for j in range(col):\n",
        "      if arr[i][j] % 50 == 0 and arr[i][j] != 0:\n",
        "        count = 0\n",
        "        if i > 0 and arr[i-1][j] == 2:\n",
        "          count += 1\n",
        "        if i < row-1 and arr[i+1][j] == 2:\n",
        "          count += 1\n",
        "        if j > 0 and arr[i][j-1] == 2:\n",
        "          count += 1\n",
        "        if j < col-1 and arr[i][j+1] == 2:\n",
        "          count += 1\n",
        "        gained_points += count * 2\n",
        "      \n",
        "  return gained_points\n",
        "\n",
        "\n",
        "#DRIVER CODE\n",
        "#DO NOT CHANGE THE CODE BELOW\n",
        "\n",
        "print(\"=============== Game 1 ===============\")\n",
        "game_arena = np.array([[0, 2, 2, 0],\n",
        "                      [50, 1, 2, 0],\n",
        "                      [2, 2, 2, 0],\n",
        "                      [1, 100, 2, 0]])\n",
        "\n",
        "print_matrix(game_arena)\n",
        "points = gainPoints(game_arena)                                 #should return 6\n",
        "if points>=10:\n",
        "  print(f'Points Gained: {points}. Your team has survived the game.')\n",
        "else:\n",
        "  print(f'Points Gained: {points}. Your team is out.')\n",
        "\n",
        "print()\n",
        "print(\"=============== Game 2 ===============\")\n",
        "game_arena = np.array([[0, 2, 2, 0, 2],\n",
        "                        [1, 50, 2, 1, 100],\n",
        "                        [2, 2, 2, 0, 2],\n",
        "                        [0, 200, 2, 0, 0]])\n",
        "\n",
        "print_matrix(game_arena)\n",
        "points = gainPoints(game_arena)                                 #should return 14\n",
        "if points>=10:\n",
        "  print(f'Points Gained: {points}. Your team has survived the game.')\n",
        "else:\n",
        "  print(f'Points Gained: {points}. Your team is out.')"
      ]
    }
  ],
  "metadata": {
    "colab": {
      "provenance": [],
      "toc_visible": true
    },
    "kernelspec": {
      "display_name": "Python 3",
      "name": "python3"
    },
    "language_info": {
      "codemirror_mode": {
        "name": "ipython",
        "version": 3
      },
      "file_extension": ".py",
      "mimetype": "text/x-python",
      "name": "python",
      "nbconvert_exporter": "python",
      "pygments_lexer": "ipython3",
      "version": "3.10.8"
    }
  },
  "nbformat": 4,
  "nbformat_minor": 0
}
