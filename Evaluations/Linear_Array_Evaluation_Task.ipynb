{
  "cells": [
    {
      "cell_type": "markdown",
      "metadata": {
        "id": "ecjDC-kk_fof"
      },
      "source": [
        "Suppose, you and your whole group just finished the CSE220 class in BracU at 5PM. All of you are going to the Oppenheimer screening at Bashundhara. You know that now the buses will be the most congested, so you decide to go by DUBER. DUBER is a ride sharing app like UBER which can take at most two passengers. As the whole section is going and each DUBER car can take only 2 of you, you decide to split up in groups of 2. Each DUBER car has the same amount of fare but all of you have variable amounts of money with you. So now, you need to split up in groups of 2 so that the total amount of money of the group is equal to the fare of a DUBER car so that you can pay easily. Now given an array of the amount of money of each of you, write a program to find groups of maximum 2 that have a total amount of money exactly equal to the fare. If someone can not be grouped in such a way, also provide their list. [Printing the group numbers is optional]\n"
      ]
    },
    {
      "cell_type": "markdown",
      "metadata": {
        "id": "SUsP9931_mJX"
      },
      "source": [
        "#Test Case 1\n",
        "findGroups( [120, 100, 150, 50, 30], 150 )\n",
        "Expected Output:\n",
        "Group 1 : 120, 30\n",
        "Group 2 : 100, 50\n",
        "Group 3 : 150\n",
        "\n",
        "#Test Case 2\n",
        "findGroups ( [60, 150, 60, 30, 120, 30], 180 )\n",
        "Expected Output:\n",
        "Group 1 : 60, 120\n",
        "Group 2 : 30, 150\n",
        "Ungrouped : 30 60\n",
        "\n",
        "#Test Case 3\n",
        "findGroups ( [30, 150, 150], 180 )\n",
        "Expected Output:\n",
        "Group 1 : 30, 150\n",
        "Ungrouped: 150\n",
        "\n"
      ]
    },
    {
      "cell_type": "code",
      "execution_count": 31,
      "metadata": {
        "id": "p4qtPAOp_q5G"
      },
      "outputs": [
        {
          "name": "stdout",
          "output_type": "stream",
          "text": [
            "Group 1 : 120, 30\n",
            "Group 2 : 100, 50\n",
            "Group 3 : 150\n"
          ]
        }
      ],
      "source": [
        "import numpy as np\n",
        "def findGroups (money, fare):\n",
        "    money = np.array(money)\n",
        "    i = 0\n",
        "    j = len(money) - 1\n",
        "    count = 0\n",
        "    while i < j:\n",
        "        if money[i] + money[j] == fare:\n",
        "            count += 1\n",
        "            print(f'Group {count} : {money[i]}, {money[j]}')\n",
        "            i += 1\n",
        "            j -= 1\n",
        "        elif money[i] + money[j] < fare:\n",
        "            i += 1\n",
        "        elif money[i] + money[j] > fare:\n",
        "            j -= 1\n",
        "        \n",
        "\n",
        "        if money[i] == fare:\n",
        "          count += 1\n",
        "          print(f'Group {count} : {money[j]}')\n",
        "        elif money[i] + money[j] != fare\n",
        "        \n",
        "              \n",
        "        \n",
        "            \n",
        "        \n",
        "\n",
        "findGroups( [120, 100, 150, 50, 30], 150 )"
      ]
    },
    {
      "cell_type": "code",
      "execution_count": null,
      "metadata": {},
      "outputs": [],
      "source": []
    }
  ],
  "metadata": {
    "colab": {
      "provenance": []
    },
    "kernelspec": {
      "display_name": "Python 3",
      "name": "python3"
    },
    "language_info": {
      "codemirror_mode": {
        "name": "ipython",
        "version": 3
      },
      "file_extension": ".py",
      "mimetype": "text/x-python",
      "name": "python",
      "nbconvert_exporter": "python",
      "pygments_lexer": "ipython3",
      "version": "3.10.8"
    }
  },
  "nbformat": 4,
  "nbformat_minor": 0
}
