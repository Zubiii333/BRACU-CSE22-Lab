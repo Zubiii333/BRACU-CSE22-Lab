{
  "cells": [
    {
      "cell_type": "code",
      "execution_count": null,
      "metadata": {
        "id": "zpQoORC7v8D5"
      },
      "outputs": [],
      "source": [
        "import numpy as np"
      ]
    },
    {
      "cell_type": "code",
      "execution_count": null,
      "metadata": {
        "id": "9bqdhEPZxrtR"
      },
      "outputs": [],
      "source": [
        "class Node:\n",
        "  def __init__(self, e, n, p):\n",
        "    self.element = e\n",
        "    self.next = n\n",
        "    self.prev = p\n",
        "\n",
        "class DoublyLinkedList:\n",
        "    \n",
        "  def __init__(self,e, n, p):\n",
        "    self.element = e\n",
        "    self.next = n\n",
        "    self.prev = p\n",
        "\n",
        "  def createList(self, n):\n",
        "    dh = Node(None, None, None)\n",
        "    dh.next = dh\n",
        "    dh.prev = dh\n",
        "    tail = dh\n",
        "\n",
        "    for i in range(n):\n",
        "      n = Node(n[i], dh, tail)\n",
        "      tail.next = Node(i, dh, tail)\n",
        "      tail = tail.next\n",
        "      dh.prev = tail\n",
        "\n",
        "    return dh\n",
        "  \n",
        "\n",
        "\n",
        "    "
      ]
    }
  ],
  "metadata": {
    "colab": {
      "provenance": []
    },
    "kernelspec": {
      "display_name": "Python 3",
      "name": "python3"
    },
    "language_info": {
      "name": "python"
    }
  },
  "nbformat": 4,
  "nbformat_minor": 0
}
