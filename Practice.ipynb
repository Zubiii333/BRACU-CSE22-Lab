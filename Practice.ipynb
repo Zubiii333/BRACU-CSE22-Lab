{
 "cells": [
  {
   "cell_type": "code",
   "execution_count": 30,
   "metadata": {},
   "outputs": [],
   "source": [
    "class BTNode:\n",
    "    def __init__(self, elem):\n",
    "        self.elem = elem\n",
    "        self.right = None\n",
    "        self.left = None\n"
   ]
  },
  {
   "cell_type": "code",
   "execution_count": 31,
   "metadata": {},
   "outputs": [],
   "source": [
    "#Input 1\n",
    "root1 = BTNode(9)\n",
    "node2 = BTNode(4)\n",
    "node3 = BTNode(5)\n",
    "node4 = BTNode(18)\n",
    "node5 = BTNode(14)\n",
    "node6 = BTNode(3)\n",
    "node7 = BTNode(54)\n",
    "node8 = BTNode(12)\n",
    "node9 = BTNode(8)\n",
    "node10 = BTNode(91)\n",
    "node11 = BTNode(56)\n",
    "\n",
    "root1. left = node2\n",
    "root1.right = node3\n",
    "\n",
    "node2.left = node4\n",
    "\n",
    "node3.left = node5\n",
    "node3.right = node6\n",
    "\n",
    "node4.left = node7\n",
    "node4.right = node8\n",
    "\n",
    "node5.left = node9\n",
    "\n",
    "node8.left = node10 \n",
    "node8.right = node11"
   ]
  },
  {
   "cell_type": "code",
   "execution_count": 32,
   "metadata": {},
   "outputs": [],
   "source": [
    "#Input 2\n",
    "root2 = BTNode(2)\n",
    "node12 = BTNode(4)\n",
    "node13 = BTNode(5)\n",
    "node14 = BTNode(9)\n",
    "node15 = BTNode(11)\n",
    "node16 = BTNode(98)\n",
    "node17 = BTNode(62)\n",
    "node18 = BTNode(17)\n",
    "node19 = BTNode(15)\n",
    "node20 = BTNode(45)\n",
    "node21 = BTNode(8)\n",
    "\n",
    "root2.left = node12\n",
    "root2.right = node13\n",
    "\n",
    "node12.left = node14\n",
    "\n",
    "node13.left = node15\n",
    "node13.right = node16\n",
    "\n",
    "node14.left = node17\n",
    "node14.right = node18\n",
    "\n",
    "node18.left = node19\n",
    "node18.right = node20\n",
    "\n",
    "node20.right = node21"
   ]
  },
  {
   "cell_type": "code",
   "execution_count": 33,
   "metadata": {},
   "outputs": [],
   "source": [
    "def sumTree(root):\n",
    "    if root is None:\n",
    "        return 0\n",
    "\n",
    "    level = 0\n",
    "    total_sum = root.elem  # Sum of root node\n",
    "    queue = [(root, level)]\n",
    "\n",
    "    while queue:\n",
    "        node, level = queue.pop(0)\n",
    "        if node.left:\n",
    "            total_sum += node.left.elem % (level + 1)\n",
    "            queue.append((node.left, level + 1))\n",
    "        if node.right:\n",
    "            total_sum += node.right.elem % (level + 1)\n",
    "            queue.append((node.right, level + 1))\n",
    "\n",
    "    return total_sum\n"
   ]
  },
  {
   "cell_type": "code",
   "execution_count": 29,
   "metadata": {},
   "outputs": [
    {
     "name": "stdout",
     "output_type": "stream",
     "text": [
      "15\n",
      "15\n"
     ]
    }
   ],
   "source": [
    "print(sumTree(root1))\n",
    "print(sumTree(root2))"
   ]
  },
  {
   "cell_type": "code",
   "execution_count": 2,
   "metadata": {},
   "outputs": [],
   "source": [
    "def findPair(arr, i=0, j=0):\n",
    "    # Base case: If the sum of the current pair is 100, return the pair\n",
    "    if arr[i] + arr[j] == 100:\n",
    "        return (i, j)\n",
    "    \n",
    "    # Recursive case: If the end of the array is reached, return (0, 0)\n",
    "    if i == len(arr) - 1 and j == len(arr) - 1:\n",
    "        return (0, 0)\n",
    "    \n",
    "    # Recursive case: If the end of the row is reached, move to the next row\n",
    "    if j == len(arr) - 1:\n",
    "        return findPair(arr, i + 1, 0)\n",
    "    \n",
    "    # Recursive case: Move to the next column\n",
    "    return findPair(arr, i, j + 1)\n",
    "\n"
   ]
  },
  {
   "cell_type": "code",
   "execution_count": 3,
   "metadata": {},
   "outputs": [
    {
     "ename": "",
     "evalue": "",
     "output_type": "error",
     "traceback": [
      "\u001b[1;31mThe Kernel crashed while executing code in the the current cell or a previous cell. Please review the code in the cell(s) to identify a possible cause of the failure. Click <a href='https://aka.ms/vscodeJupyterKernelCrash'>here</a> for more info. View Jupyter <a href='command:jupyter.viewOutput'>log</a> for further details."
     ]
    }
   ],
   "source": []
  }
 ],
 "metadata": {
  "kernelspec": {
   "display_name": "Python 3",
   "language": "python",
   "name": "python3"
  },
  "language_info": {
   "codemirror_mode": {
    "name": "ipython",
    "version": 3
   },
   "file_extension": ".py",
   "mimetype": "text/x-python",
   "name": "python",
   "nbconvert_exporter": "python",
   "pygments_lexer": "ipython3",
   "version": "3.10.8"
  }
 },
 "nbformat": 4,
 "nbformat_minor": 2
}
