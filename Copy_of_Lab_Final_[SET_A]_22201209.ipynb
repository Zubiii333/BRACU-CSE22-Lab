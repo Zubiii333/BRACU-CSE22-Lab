{
  "cells": [
    {
      "cell_type": "markdown",
      "metadata": {
        "colab_type": "text",
        "id": "view-in-github"
      },
      "source": [
        "<a href=\"https://colab.research.google.com/github/Zubiii333/BRACU-CSE22-Lab/blob/main/Copy_of_Lab_Final_%5BSET_A%5D_22201209.ipynb\" target=\"_parent\"><img src=\"https://colab.research.google.com/assets/colab-badge.svg\" alt=\"Open In Colab\"/></a>"
      ]
    },
    {
      "cell_type": "markdown",
      "metadata": {
        "id": "aeSNqaSurEN1"
      },
      "source": [
        "### Task 1\n",
        "\n",
        "You will have to implemenet the __hash_function() and insert_vehicle() Function."
      ]
    },
    {
      "cell_type": "code",
      "execution_count": 6,
      "metadata": {
        "id": "nY5cKJ_VrwOk"
      },
      "outputs": [],
      "source": [
        "class vehicleNodes:\n",
        "  def __init__(self, brand, vehicle_type, rent, passenger, next = None):\n",
        "    self.brand = brand\n",
        "    self.vehicle_type = vehicle_type\n",
        "    self.rent = rent\n",
        "    self.passenger = passenger\n",
        "    self.next = next"
      ]
    },
    {
      "cell_type": "code",
      "execution_count": 14,
      "metadata": {
        "id": "ErzXC3xMabkf"
      },
      "outputs": [],
      "source": [
        "class VehicleHashTable:\n",
        "  def __init__(self, size):\n",
        "    self.vehicleTable = [None]*size\n",
        "    self.empty_slot = {}\n",
        "    for i in range(size):\n",
        "      self.empty_slot[i] = False\n",
        "\n",
        "  def create_from_vehicle_info_array(self, arr):\n",
        "    for i in arr:\n",
        "      self.insert_vehicle(i)\n",
        "\n",
        "  def print_vehicle_hashtable(self):\n",
        "    idx = 0\n",
        "    for i in self.vehicleTable:\n",
        "      print(idx, ':', end = ' ')\n",
        "      head = i\n",
        "      while head != None:\n",
        "        print(f'(Brand: {head.brand}, Type: {head.vehicle_type}, Rent: {head.rent}, No. of Passengers: {head.passenger})', end = '---->')\n",
        "        head = head.next\n",
        "      print('None')\n",
        "      print()\n",
        "      idx += 1\n",
        "\n",
        "  def find_empty_slot(self):\n",
        "    for k,v in self.empty_slot.items():\n",
        "      idx = k\n",
        "      del self.empty_slot[k]\n",
        "      return idx\n",
        "\n",
        "  def __hash_function(self, brand, idx):\n",
        "    hash_value = sum(ord(char) for char in brand)\n",
        "    return (idx + hash_value) % len(self.vehicleTable)\n",
        "\n",
        "  def insert_vehicle(self, vehicle):\n",
        "    brand, vehicle_type, rent, passenger = vehicle\n",
        "    idx = self.__hash_function(brand, self.find_empty_slot())\n",
        "    self.vehicleTable[idx] = vehicleNodes(brand, vehicle_type, rent, passenger, self.vehicleTable[idx])\n"
      ]
    },
    {
      "cell_type": "code",
      "execution_count": 15,
      "metadata": {
        "id": "-tJ1oMEifQIC"
      },
      "outputs": [
        {
          "name": "stdout",
          "output_type": "stream",
          "text": [
            "============== Printing The HashTable ==============\n",
            "0 : (Brand: Toyota, Type: Private Car, Rent: 500, No. of Passengers: 4)---->None\n",
            "\n",
            "1 : (Brand: Ferrari, Type: Private Car, Rent: 2500, No. of Passengers: 4)---->None\n",
            "\n",
            "2 : (Brand: BMW, Type: Private Car, Rent: 1000, No. of Passengers: 8)---->None\n",
            "\n",
            "3 : None\n",
            "\n",
            "4 : None\n",
            "\n",
            "5 : (Brand: BMW, Type: Minivan, Rent: 5800, No. of Passengers: 7)---->(Brand: Hyundai, Type: Bike, Rent: 100, No. of Passengers: 1)---->(Brand: Jeep, Type: SUV, Rent: 950, No. of Passengers: 6)---->None\n",
            "\n",
            "6 : (Brand: Lamborghini, Type: SUV, Rent: 6900, No. of Passengers: 6)---->None\n",
            "\n",
            "7 : (Brand: Honda, Type: Bike, Rent: 150, No. of Passengers: 1)---->None\n",
            "\n"
          ]
        }
      ],
      "source": [
        "#DRIVER CODE\n",
        "vehicle_info = [('Toyota', 'Private Car', 500, 4), ('Jeep', 'SUV', 950, 6), ('Lamborghini', 'SUV', 6900, 6), ('Hyundai', 'Bike', 100, 1), ('BMW', 'Private Car', 1000, 8), ('Honda', 'Bike', 150, 1), ('Ferrari', 'Private Car', 2500, 4), ('BMW', 'Minivan', 5800, 7)]\n",
        "\n",
        "vt = VehicleHashTable(len(vehicle_info))\n",
        "\n",
        "vt.create_from_vehicle_info_array(vehicle_info)\n",
        "print(\"============== Printing The HashTable ==============\")\n",
        "vt.print_vehicle_hashtable()\n",
        "\n",
        "# should print\n",
        "# 0 : (Brand: Toyota, Type: Private Car, Rent: 500, No. of Passengers: 4)---->None\n",
        "\n",
        "# 1 : (Brand: Lamborghini, Type: SUV, Rent: 6900, No. of Passengers: 6)---->None\n",
        "\n",
        "# 2 : (Brand: Hyundai, Type: Bike, Rent: 100, No. of Passengers: 1)---->None\n",
        "\n",
        "# 3 : (Brand: Honda, Type: Bike, Rent: 150, No. of Passengers: 1)---->None\n",
        "\n",
        "# 4 : (Brand: Jeep, Type: SUV, Rent: 950, No. of Passengers: 6)---->None\n",
        "\n",
        "# 5 : (Brand: Ferrari, Type: Private Car, Rent: 2500, No. of Passengers: 4)---->None\n",
        "\n",
        "# 6 : (Brand: BMW, Type: Minivan, Rent: 5800, No. of Passengers: 7)---->(Brand: BMW, Type: Private Car, Rent: 1000, No. of Passengers: 8)---->None\n",
        "\n",
        "# 7 : None\n",
        "\n"
      ]
    },
    {
      "cell_type": "code",
      "execution_count": null,
      "metadata": {
        "id": "0dPNYnrRFXM7"
      },
      "outputs": [],
      "source": []
    }
  ],
  "metadata": {
    "colab": {
      "include_colab_link": true,
      "provenance": []
    },
    "kernelspec": {
      "display_name": "Python 3",
      "name": "python3"
    },
    "language_info": {
      "codemirror_mode": {
        "name": "ipython",
        "version": 3
      },
      "file_extension": ".py",
      "mimetype": "text/x-python",
      "name": "python",
      "nbconvert_exporter": "python",
      "pygments_lexer": "ipython3",
      "version": "3.10.8"
    }
  },
  "nbformat": 4,
  "nbformat_minor": 0
}
