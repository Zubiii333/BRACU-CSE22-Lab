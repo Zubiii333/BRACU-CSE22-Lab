{
  "nbformat": 4,
  "nbformat_minor": 0,
  "metadata": {
    "colab": {
      "provenance": [],
      "include_colab_link": true
    },
    "kernelspec": {
      "name": "python3",
      "display_name": "Python 3"
    },
    "language_info": {
      "name": "python"
    }
  },
  "cells": [
    {
      "cell_type": "markdown",
      "metadata": {
        "id": "view-in-github",
        "colab_type": "text"
      },
      "source": [
        "<a href=\"https://colab.research.google.com/github/Zubiii333/BRACU-CSE22-Lab/blob/main/Copy_of_Lab_Final_%5BSET_A%5D_22201209.ipynb\" target=\"_parent\"><img src=\"https://colab.research.google.com/assets/colab-badge.svg\" alt=\"Open In Colab\"/></a>"
      ]
    },
    {
      "cell_type": "markdown",
      "source": [
        "### Task 1\n",
        "\n",
        "You will have to implemenet the __hash_function() and insert_vehicle() Function."
      ],
      "metadata": {
        "id": "aeSNqaSurEN1"
      }
    },
    {
      "cell_type": "code",
      "source": [
        "class vehicleNodes:\n",
        "  def __init__(self, brand, vehicle_type, rent, passenger, next = None):\n",
        "    self.brand = brand\n",
        "    self.vehicle_type = vehicle_type\n",
        "    self.rent = rent\n",
        "    self.passenger = passenger\n",
        "    self.next = next"
      ],
      "metadata": {
        "id": "nY5cKJ_VrwOk"
      },
      "execution_count": null,
      "outputs": []
    },
    {
      "cell_type": "code",
      "source": [
        "class VehicleHashTable:\n",
        "  def __init__(self, size):\n",
        "    self.vehicleTable = [None]*size\n",
        "    self.empty_slot = {}\n",
        "    for i in range(size):\n",
        "      self.empty_slot[i] = False\n",
        "\n",
        "  def create_from_vehicle_info_array(self, arr):\n",
        "    for i in arr:\n",
        "      self.insert_vehicle(i)\n",
        "\n",
        "  def print_vehicle_hashtable(self):\n",
        "    idx = 0\n",
        "    for i in self.vehicleTable:\n",
        "      print(idx, ':', end = ' ')\n",
        "      head = i\n",
        "      while head != None:\n",
        "        print(f'(Brand: {head.brand}, Type: {head.vehicle_type}, Rent: {head.rent}, No. of Passengers: {head.passenger})', end = '---->')\n",
        "        head = head.next\n",
        "      print('None')\n",
        "      print()\n",
        "      idx += 1\n",
        "\n",
        "  def find_empty_slot(self):\n",
        "    for k,v in self.empty_slot.items():\n",
        "      idx = k\n",
        "      del self.empty_slot[k]\n",
        "      return idx\n",
        "\n",
        "\n",
        "  #Do it yourself\n",
        "  def __hash_function(self, brand):\n",
        "      # calculate index here\n",
        "      # Do not discard the next 3 lines\n",
        "      if index in self.empty_slot:\n",
        "        del self.empty_slot[index]\n",
        "      return index\n",
        "  def helper(self, brand):\n",
        "    #pass\n",
        "    #if needed for recursion\n",
        "\n",
        "\n",
        "  #Do it yourself\n",
        "  def insert_vehicle(self, vehicle):\n",
        "    pass\n"
      ],
      "metadata": {
        "id": "ErzXC3xMabkf"
      },
      "execution_count": null,
      "outputs": []
    },
    {
      "cell_type": "code",
      "source": [
        "#DRIVER CODE\n",
        "vehicle_info = [('Toyota', 'Private Car', 500, 4), ('Jeep', 'SUV', 950, 6), ('Lamborghini', 'SUV', 6900, 6), ('Hyundai', 'Bike', 100, 1), ('BMW', 'Private Car', 1000, 8), ('Honda', 'Bike', 150, 1), ('Ferrari', 'Private Car', 2500, 4), ('BMW', 'Minivan', 5800, 7)]\n",
        "\n",
        "vt = VehicleHashTable(len(vehicle_info))\n",
        "\n",
        "vt.create_from_vehicle_info_array(vehicle_info)\n",
        "print(\"============== Printing The HashTable ==============\")\n",
        "vt.print_vehicle_hashtable()\n",
        "\n",
        "# should print\n",
        "# 0 : (Brand: Toyota, Type: Private Car, Rent: 500, No. of Passengers: 4)---->None\n",
        "\n",
        "# 1 : (Brand: Lamborghini, Type: SUV, Rent: 6900, No. of Passengers: 6)---->None\n",
        "\n",
        "# 2 : (Brand: Hyundai, Type: Bike, Rent: 100, No. of Passengers: 1)---->None\n",
        "\n",
        "# 3 : (Brand: Honda, Type: Bike, Rent: 150, No. of Passengers: 1)---->None\n",
        "\n",
        "# 4 : (Brand: Jeep, Type: SUV, Rent: 950, No. of Passengers: 6)---->None\n",
        "\n",
        "# 5 : (Brand: Ferrari, Type: Private Car, Rent: 2500, No. of Passengers: 4)---->None\n",
        "\n",
        "# 6 : (Brand: BMW, Type: Minivan, Rent: 5800, No. of Passengers: 7)---->(Brand: BMW, Type: Private Car, Rent: 1000, No. of Passengers: 8)---->None\n",
        "\n",
        "# 7 : None\n",
        "\n"
      ],
      "metadata": {
        "id": "-tJ1oMEifQIC"
      },
      "execution_count": null,
      "outputs": []
    },
    {
      "cell_type": "code",
      "source": [],
      "metadata": {
        "id": "0dPNYnrRFXM7"
      },
      "execution_count": null,
      "outputs": []
    }
  ]
}