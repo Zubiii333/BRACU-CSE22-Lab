{
  "cells": [
    {
      "cell_type": "markdown",
      "metadata": {
        "colab_type": "text",
        "id": "view-in-github"
      },
      "source": [
        "<a href=\"https://colab.research.google.com/github/Zubiii333/BRACU-CSE22-Lab/blob/main/Lab6_Recursion.ipynb\" target=\"_parent\"><img src=\"https://colab.research.google.com/assets/colab-badge.svg\" alt=\"Open In Colab\"/></a>"
      ]
    },
    {
      "cell_type": "code",
      "execution_count": 4,
      "metadata": {
        "id": "Gl_dGSpFeho1"
      },
      "outputs": [
        {
          "name": "stdout",
          "output_type": "stream",
          "text": [
            "Requirement already satisfied: fhm-unittest in /usr/local/python/3.10.8/lib/python3.10/site-packages (1.0.1)\n",
            "\n",
            "\u001b[1m[\u001b[0m\u001b[34;49mnotice\u001b[0m\u001b[1;39;49m]\u001b[0m\u001b[39;49m A new release of pip is available: \u001b[0m\u001b[31;49m23.3\u001b[0m\u001b[39;49m -> \u001b[0m\u001b[32;49m23.3.1\u001b[0m\n",
            "\u001b[1m[\u001b[0m\u001b[34;49mnotice\u001b[0m\u001b[1;39;49m]\u001b[0m\u001b[39;49m To update, run: \u001b[0m\u001b[32;49mpython -m pip install --upgrade pip\u001b[0m\n",
            "Requirement already satisfied: fuzzywuzzy in /usr/local/python/3.10.8/lib/python3.10/site-packages (0.18.0)\n",
            "\n",
            "\u001b[1m[\u001b[0m\u001b[34;49mnotice\u001b[0m\u001b[1;39;49m]\u001b[0m\u001b[39;49m A new release of pip is available: \u001b[0m\u001b[31;49m23.3\u001b[0m\u001b[39;49m -> \u001b[0m\u001b[32;49m23.3.1\u001b[0m\n",
            "\u001b[1m[\u001b[0m\u001b[34;49mnotice\u001b[0m\u001b[1;39;49m]\u001b[0m\u001b[39;49m To update, run: \u001b[0m\u001b[32;49mpython -m pip install --upgrade pip\u001b[0m\n"
          ]
        },
        {
          "name": "stderr",
          "output_type": "stream",
          "text": [
            "/home/codespace/.python/current/lib/python3.10/site-packages/fuzzywuzzy/fuzz.py:11: UserWarning: Using slow pure-python SequenceMatcher. Install python-Levenshtein to remove this warning\n",
            "  warnings.warn('Using slow pure-python SequenceMatcher. Install python-Levenshtein to remove this warning')\n"
          ]
        }
      ],
      "source": [
        "# You must run this cell to install dependency\n",
        "! pip3 install fhm-unittest\n",
        "! pip3 install fuzzywuzzy\n",
        "import fhm_unittest as unittest\n",
        "import numpy as np"
      ]
    },
    {
      "cell_type": "markdown",
      "metadata": {
        "id": "KM0LWTXLe11v"
      },
      "source": [
        "#Very Easy"
      ]
    },
    {
      "cell_type": "code",
      "execution_count": 5,
      "metadata": {
        "id": "hJuxwibMSnPz"
      },
      "outputs": [],
      "source": [
        "import math\n",
        "\n",
        "class Node:\n",
        "  def __init__(self, elem, next = None):\n",
        "    self.elem = elem\n",
        "    self.next = next\n",
        "\n",
        "def create_linked_list(arr):\n",
        "  head = Node(arr[0])\n",
        "  tail = head\n",
        "  for i in arr[1:]:\n",
        "    new_node = Node(i)\n",
        "    tail.next = new_node\n",
        "    tail = new_node\n",
        "  return head"
      ]
    },
    {
      "cell_type": "code",
      "execution_count": 6,
      "metadata": {
        "id": "gGxKAROSej5y"
      },
      "outputs": [
        {
          "name": "stdout",
          "output_type": "stream",
          "text": [
            "Sum of an array: 36\n",
            "Accepted\n"
          ]
        }
      ],
      "source": [
        "\n",
        "\n",
        "#1\n",
        "def recursive_sum(arr):\n",
        "  if len(arr) == 1:\n",
        "    return arr[0]\n",
        "  else:\n",
        "    return arr[0] + recursive_sum(arr[1:])\n",
        "  \n",
        "arr1 = np.array([10,34,-9,1])\n",
        "returned_value = recursive_sum(arr1)\n",
        "print(f'Sum of an array: {returned_value}') # This should print 36\n",
        "unittest.output_test(returned_value, 36)"
      ]
    },
    {
      "cell_type": "code",
      "execution_count": 7,
      "metadata": {
        "id": "2pqZG0e6eqby"
      },
      "outputs": [
        {
          "name": "stdout",
          "output_type": "stream",
          "text": [
            "========1========\n",
            "9C6: 84\n",
            "Accepted\n",
            "========2========\n",
            "8C2: 28\n",
            "Accepted\n",
            "========3========\n",
            "48C1: 48\n",
            "Accepted\n"
          ]
        }
      ],
      "source": [
        "#2\n",
        "\n",
        "def nCr(n,r):\n",
        "    if n == r:\n",
        "        return 1\n",
        "    elif r == 1:\n",
        "        return n\n",
        "    else:\n",
        "        return nCr(n-1,r) + nCr(n-1,r-1)\n",
        "    \n",
        "print('========1========')\n",
        "returned_value = nCr(9,6)\n",
        "print(f'9C6: {returned_value}') # This should print 84\n",
        "unittest.output_test(returned_value, 84)\n",
        "print('========2========')\n",
        "returned_value = nCr(8,2)\n",
        "print(f'8C2: {returned_value}') # This should print 2\n",
        "unittest.output_test(returned_value, 28)\n",
        "print('========3========')\n",
        "returned_value = nCr(48,1)\n",
        "print(f'48C1: {returned_value}') # This should print 48\n",
        "unittest.output_test(returned_value, 48)"
      ]
    },
    {
      "cell_type": "code",
      "execution_count": 8,
      "metadata": {
        "id": "XtBEwczoet2O"
      },
      "outputs": [
        {
          "name": "stdout",
          "output_type": "stream",
          "text": [
            "Number of Digits: 4\n",
            "Accepted\n"
          ]
        }
      ],
      "source": [
        "#3\n",
        "def count_digit_recursive(n):\n",
        "  if n < 10:\n",
        "    return 1\n",
        "  else:\n",
        "    return 1 + count_digit_recursive(n//10)\n",
        "\n",
        "returned_value = count_digit_recursive(7508)\n",
        "print(f'Number of Digits: {returned_value}') # This should print 4\n",
        "unittest.output_test(returned_value, 4)"
      ]
    },
    {
      "cell_type": "code",
      "execution_count": 9,
      "metadata": {
        "id": "vLvXNEtleufk"
      },
      "outputs": [
        {
          "name": "stdout",
          "output_type": "stream",
          "text": [
            "========1========\n",
            "Prime: True\n",
            "Accepted\n",
            "========2========\n",
            "Prime: False\n",
            "Accepted\n"
          ]
        }
      ],
      "source": [
        "#4\n",
        "def check_prime_recursive(n, i = 2):\n",
        "    if n == 1:\n",
        "        return False\n",
        "    elif n == 2:\n",
        "        return True\n",
        "    elif n % i == 0:\n",
        "        return False\n",
        "    elif i * i > n:\n",
        "        return True\n",
        "    else:\n",
        "        return check_prime_recursive(n, i + 1)\n",
        "        \n",
        "print('========1========')\n",
        "returned_value = check_prime_recursive(79)\n",
        "print(f'Prime: {returned_value}') # This should print True\n",
        "unittest.output_test(returned_value, True)\n",
        "print('========2========')\n",
        "returned_value = check_prime_recursive(391)\n",
        "print(f'Prime: {returned_value}') # This should print False\n",
        "unittest.output_test(returned_value, False)"
      ]
    },
    {
      "cell_type": "markdown",
      "metadata": {
        "id": "-v81hGhKe3qv"
      },
      "source": [
        "#Easy"
      ]
    },
    {
      "cell_type": "code",
      "execution_count": 10,
      "metadata": {
        "id": "P8mJClese7KD"
      },
      "outputs": [
        {
          "name": "stdout",
          "output_type": "stream",
          "text": [
            "Use of encoding function\n",
            "Hexadecimal Number: 7\n",
            "Hexadecimal Number: D\n",
            "========1========\n",
            "Hexadecimal Number: 4CE\n",
            "Accepted\n",
            "========2========\n",
            "Hexadecimal Number: 258\n",
            "Accepted\n"
          ]
        }
      ],
      "source": [
        "#you may use this for decimal to hexadecimal mapping of 0-15\n",
        "def encoding(dec_number): #0<=dec_number<=15\n",
        "  return '0123456789ABCDEF'[dec_number]\n",
        "\n",
        "\n",
        "\n",
        "#1\n",
        "def dec_to_hexa_recursive(n):\n",
        "    if n < 16:\n",
        "        return encoding(n)\n",
        "    else:\n",
        "        return dec_to_hexa_recursive(n//16) + encoding(n%16)\n",
        "        \n",
        "print('Use of encoding function')\n",
        "decimal_number = 7\n",
        "print(f'Hexadecimal Number: {encoding(decimal_number)}')\n",
        "decimal_number = 13\n",
        "print(f'Hexadecimal Number: {encoding(decimal_number)}')\n",
        "\n",
        "print('========1========')\n",
        "returned_value = dec_to_hexa_recursive(1230)\n",
        "print(f'Hexadecimal Number: {returned_value}') # This should print 4CE\n",
        "unittest.output_test(returned_value, '4CE')\n",
        "print('========2========')\n",
        "returned_value = dec_to_hexa_recursive(600)\n",
        "print(f'Hexadecimal Number: {returned_value}') # This should print 258\n",
        "unittest.output_test(returned_value, '258')"
      ]
    },
    {
      "cell_type": "code",
      "execution_count": 11,
      "metadata": {
        "id": "3cQ4WTupfJsf"
      },
      "outputs": [
        {
          "name": "stdout",
          "output_type": "stream",
          "text": [
            "========1========\n",
            "Same: True\n",
            "Accepted\n",
            "========2========\n",
            "Same: False\n",
            "Accepted\n"
          ]
        }
      ],
      "source": [
        "#2\n",
        "def compare_recursive(head, arr):\n",
        "    if head is None:\n",
        "        return True\n",
        "    else:\n",
        "        return head.elem == arr[0] and compare_recursive(head.next, arr[1:])\n",
        "\n",
        "print('========1========')\n",
        "array = np.array([10, 11, 12, 13, 14])\n",
        "head = create_linked_list(np.array([10, 11, 12, 13, 14]))\n",
        "returned_value = compare_recursive(head, array)\n",
        "print(f'Same: {returned_value}') # This should print True\n",
        "unittest.output_test(returned_value, True)\n",
        "print('========2========')\n",
        "array = np.array([10, 11, 12, 13, 14])\n",
        "head = create_linked_list(np.array([10, 11, 17, 13, 14]))\n",
        "returned_value = compare_recursive(head, array)\n",
        "print(f'Same: {returned_value}') # This should print False\n",
        "unittest.output_test(returned_value, False)"
      ]
    },
    {
      "cell_type": "code",
      "execution_count": 12,
      "metadata": {
        "id": "zFGiCbScfNJ0"
      },
      "outputs": [
        {
          "name": "stdout",
          "output_type": "stream",
          "text": [
            "e a u i u l f t b "
          ]
        }
      ],
      "source": [
        "\n",
        "\n",
        "#3\n",
        "def print_alphabets_recursive(head):\n",
        "    vowels = ['a', 'e', 'i', 'o', 'u']\n",
        "    if head is not None:\n",
        "        if head.elem in vowels:\n",
        "            print(head.elem, end=' ')\n",
        "        print_alphabets_recursive(head.next)\n",
        "        if head.elem not in vowels:\n",
        "            print(head.elem, end=' ')\n",
        "\n",
        "head = create_linked_list(np.array(['b', 'e', 'a', 'u', 't', 'i', 'f', 'u', 'l']))\n",
        "print_alphabets_recursive(head) # This will print e a u i u l f t b\n"
      ]
    },
    {
      "cell_type": "markdown",
      "metadata": {
        "id": "CaRQ_tSTgkZI"
      },
      "source": [
        "#Medium"
      ]
    },
    {
      "cell_type": "code",
      "execution_count": 13,
      "metadata": {
        "id": "KufwSw-_gnBO"
      },
      "outputs": [
        {
          "name": "stdout",
          "output_type": "stream",
          "text": [
            "18\n"
          ]
        }
      ],
      "source": [
        "def hocBuilder(height):\n",
        "  if height==1:\n",
        "    return 8\n",
        "  else:\n",
        "    return (5+hocBuilder(height-1))\n",
        "print(hocBuilder(3))\n"
      ]
    },
    {
      "cell_type": "code",
      "execution_count": 14,
      "metadata": {
        "id": "GsEHYQPHfQbY"
      },
      "outputs": [
        {
          "name": "stdout",
          "output_type": "stream",
          "text": [
            "========1========\n",
            "Maximum: 25\n",
            "Accepted\n",
            "========2========\n",
            "Maximum: -1\n",
            "Accepted\n"
          ]
        }
      ],
      "source": [
        "#2\n",
        "\n",
        "def max_recursive(a,i=0):\n",
        "  if i<len(a):\n",
        "    max=max_recursive(a,i+1)\n",
        "  else:\n",
        "    return a[i-1]\n",
        "  if a[i]>max:\n",
        "    max =a[i]\n",
        "    return max\n",
        "  else:\n",
        "    return max\n",
        "  \n",
        "print('========1========')\n",
        "array = np.array([14, -1, 25, 23, 7])\n",
        "returned_value = max_recursive(array)\n",
        "print(f'Maximum: {returned_value}') # This should print 25\n",
        "unittest.output_test(returned_value, 25)\n",
        "print('========2========')\n",
        "array = np.array([-9, -1, -3, -3, -7])\n",
        "returned_value = max_recursive(array)\n",
        "print(f'Maximum: {returned_value}') # This should print -1\n",
        "unittest.output_test(returned_value, -1)"
      ]
    },
    {
      "cell_type": "markdown",
      "metadata": {
        "id": "FJZjAYFwhhJE"
      },
      "source": [
        "#Hard"
      ]
    },
    {
      "cell_type": "code",
      "execution_count": 15,
      "metadata": {
        "colab": {
          "base_uri": "https://localhost:8080/"
        },
        "id": "4Xdjz5pUgr0K",
        "outputId": "c1f83342-f73f-43f0-b539-b74bd112d2da"
      },
      "outputs": [
        {
          "name": "stdout",
          "output_type": "stream",
          "text": [
            "========1========\n",
            "1 \n",
            "1 2 \n",
            "1 2 3 \n",
            "1 2 3 4 \n",
            "1 2 3 4 5 \n",
            "========1========\n",
            "1 \n",
            "1 2 \n",
            "1 2 3 \n",
            "1 2 3 4 \n",
            "1 2 3 4 5 \n",
            "1 2 3 4 5 6 \n",
            "1 2 3 4 5 6 7 \n"
          ]
        }
      ],
      "source": [
        "\n",
        "def print_pattern(n,i=1,j=1):\n",
        "  if i<=n:\n",
        "    if j<=i:\n",
        "      print(j,end=\" \")\n",
        "      print_pattern(n,i,j+1)\n",
        "    else:\n",
        "      print()\n",
        "      print_pattern(n,i+1,1)\n",
        "  else:\n",
        "    return\n",
        "\n",
        "#1\n",
        "print('========1========')\n",
        "n = 5\n",
        "print_pattern(n)\n",
        "print('========1========')\n",
        "n = 7\n",
        "print_pattern(n)"
      ]
    },
    {
      "cell_type": "code",
      "execution_count": 16,
      "metadata": {
        "colab": {
          "base_uri": "https://localhost:8080/"
        },
        "id": "uvbbPe8xhe-r",
        "outputId": "c4bccbf7-2b40-46d7-af14-d7d0a0cd0cfa"
      },
      "outputs": [
        {
          "name": "stdout",
          "output_type": "stream",
          "text": [
            "========1========\n",
            "1 2 3 4 5\n",
            "3 5 7 9\n",
            "5 9 13\n",
            "7 15\n",
            "9\n",
            "========2========\n",
            "1 2 3 4 5 6 7\n",
            "3 5 7 9 11 13\n",
            "5 9 13 17 21\n",
            "7 15 23 31\n",
            "9 25 41\n",
            "11 43\n",
            "13\n"
          ]
        }
      ],
      "source": [
        "\n",
        "\n",
        "#2\n",
        "def horizontal(n,th,p,i=1):\n",
        "  if i==n:\n",
        "    print(p)\n",
        "    return\n",
        "  else:\n",
        "    print(p,end=\" \")\n",
        "  horizontal(n,th,p+th,i+1)\n",
        "  \n",
        "def print_pattern_2(n,i=0,p=1):\n",
        "  if n==0:\n",
        "    return\n",
        "  horizontal(n,2**i,p)\n",
        "  return print_pattern_2(n-1,i+1,p+2)\n",
        "\n",
        "print('========1========')\n",
        "n = 5\n",
        "print_pattern_2(n)\n",
        "print('========2========')\n",
        "n = 7\n",
        "print_pattern_2(n)\n"
      ]
    },
    {
      "cell_type": "markdown",
      "metadata": {
        "id": "v-CxHGqZm9WB"
      },
      "source": [
        "#Very Hard"
      ]
    },
    {
      "cell_type": "code",
      "execution_count": 17,
      "metadata": {
        "id": "RKQnhkyOjwQ2"
      },
      "outputs": [
        {
          "name": "stdout",
          "output_type": "stream",
          "text": [
            "[1, 2, 3, 4, 5, 6, 7, 8, 9, 10, 11, 12, 13, 14, 15, 16, 17]\n"
          ]
        }
      ],
      "source": [
        "def flattenList(given_list, output_list):\n",
        "    if not given_list:\n",
        "        return output_list\n",
        "    if type(given_list[0]) == list:\n",
        "        return flattenList(given_list[1:], flattenList(given_list[0], output_list))\n",
        "    else:\n",
        "        return flattenList(given_list[1:], output_list + [given_list[0]])\n",
        "\n",
        "given_list = [1, [2, [3, [4], 5], 6], 7, 8, [9, [[10, 11], 12], 13], 14, [15, [16, [17]]]]\n",
        "output_list = flattenList(given_list, []) # Initial empty list is sent for update\n",
        "print(output_list)\n",
        "#output_list = [1, 2, 3, 4, 5, 6, 7, 8, 9, 10, 11, 12, 13, 14, 15, 16, 17]"
      ]
    }
  ],
  "metadata": {
    "colab": {
      "include_colab_link": true,
      "provenance": []
    },
    "kernelspec": {
      "display_name": "Python 3",
      "name": "python3"
    },
    "language_info": {
      "codemirror_mode": {
        "name": "ipython",
        "version": 3
      },
      "file_extension": ".py",
      "mimetype": "text/x-python",
      "name": "python",
      "nbconvert_exporter": "python",
      "pygments_lexer": "ipython3",
      "version": "3.10.8"
    }
  },
  "nbformat": 4,
  "nbformat_minor": 0
}
