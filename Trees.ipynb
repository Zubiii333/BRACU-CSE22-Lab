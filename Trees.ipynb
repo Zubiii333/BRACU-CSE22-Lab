{
  "nbformat": 4,
  "nbformat_minor": 0,
  "metadata": {
    "colab": {
      "provenance": [],
      "include_colab_link": true
    },
    "kernelspec": {
      "name": "python3",
      "display_name": "Python 3"
    },
    "language_info": {
      "name": "python"
    }
  },
  "cells": [
    {
      "cell_type": "markdown",
      "metadata": {
        "id": "view-in-github",
        "colab_type": "text"
      },
      "source": [
        "<a href=\"https://colab.research.google.com/github/Zubiii333/BRACU-CSE22-Lab/blob/main/Trees.ipynb\" target=\"_parent\"><img src=\"https://colab.research.google.com/assets/colab-badge.svg\" alt=\"Open In Colab\"/></a>"
      ]
    },
    {
      "cell_type": "markdown",
      "source": [
        "**Tree Construction**"
      ],
      "metadata": {
        "id": "ky84ol1oUwWG"
      }
    },
    {
      "cell_type": "code",
      "execution_count": null,
      "metadata": {
        "id": "AHsuhQHlUAAc"
      },
      "outputs": [],
      "source": [
        "class Node:\n",
        "    def __init__(self, elem):\n",
        "        self.elem = elem\n",
        "        self.left = self.right = None\n",
        "\n",
        "root = Node(1)\n",
        "root.left = Node(2)\n",
        "root.right = Node(3)\n",
        "root.left.left = Node(4)\n",
        "root.left.right = Node(5)"
      ]
    },
    {
      "cell_type": "markdown",
      "source": [
        "Tree Traversal"
      ],
      "metadata": {
        "id": "VmmzOQpaUzwH"
      }
    },
    {
      "cell_type": "markdown",
      "source": [
        "Pre-Order (Own | Left-Child | Right-Child)"
      ],
      "metadata": {
        "id": "LSTGvBgPa4nt"
      }
    },
    {
      "cell_type": "markdown",
      "source": [
        "function pre_order(root):\n",
        "troot is not empty:\n",
        "\n",
        "    print the element\n",
        "\n",
        "    recursive call pre_order(root.left)\n",
        "\n",
        "    recursice call pre_order(root.right)"
      ],
      "metadata": {
        "id": "jUHGZYQRWZ_A"
      }
    },
    {
      "cell_type": "code",
      "source": [
        "def pre_order(n):\n",
        "  if n!=None:\n",
        "    print(n.elem, end=\"--> \")\n",
        "    pre_order(n.left)\n",
        "    pre_order(n.right)\n",
        "pre_order(root)"
      ],
      "metadata": {
        "colab": {
          "base_uri": "https://localhost:8080/"
        },
        "id": "YbrDnnZWU1n-",
        "outputId": "c13a2f63-80c7-45ef-b2d4-99f477f129c9"
      },
      "execution_count": null,
      "outputs": [
        {
          "output_type": "stream",
          "name": "stdout",
          "text": [
            "8--> 2--> 5--> 15--> 10--> 20--> "
          ]
        }
      ]
    },
    {
      "cell_type": "markdown",
      "source": [
        "In-Order (Left-Child | Own | Right-Child)"
      ],
      "metadata": {
        "id": "369qHEYvdOwx"
      }
    },
    {
      "cell_type": "code",
      "source": [
        "def in_order(n):\n",
        "  if n!=None:\n",
        "    in_order(n.left)\n",
        "    print(n.elem, end=\"--> \")\n",
        "    in_order(n.right)\n",
        "in_order(root)"
      ],
      "metadata": {
        "colab": {
          "base_uri": "https://localhost:8080/"
        },
        "id": "RXRcsfdQXlsF",
        "outputId": "cc813e96-d64c-4276-dd03-3af03c96d5b3"
      },
      "execution_count": null,
      "outputs": [
        {
          "output_type": "stream",
          "name": "stdout",
          "text": [
            "20--> 40--> 50--> 55--> 60--> 70--> 75--> 80--> 85--> 90--> 95--> 99--> "
          ]
        }
      ]
    },
    {
      "cell_type": "markdown",
      "source": [
        "Post-Order (Left-Child | Right-Child | Own)"
      ],
      "metadata": {
        "id": "C9e6NT8kdidL"
      }
    },
    {
      "cell_type": "code",
      "source": [
        "def post_order(n):\n",
        "  if n!=None:\n",
        "    post_order(n.left)\n",
        "    post_order(n.right)\n",
        "    print(n.elem, end=\"--> \")\n",
        "post_order(root)"
      ],
      "metadata": {
        "colab": {
          "base_uri": "https://localhost:8080/"
        },
        "id": "TsXQEnKeXqy4",
        "outputId": "9db6d55b-6d2a-4954-d429-015c18bbac97"
      },
      "execution_count": null,
      "outputs": [
        {
          "output_type": "stream",
          "name": "stdout",
          "text": [
            "20--> 40--> 55--> 60--> 50--> 75--> 85--> 80--> 99--> 95--> 90--> 70--> "
          ]
        }
      ]
    },
    {
      "cell_type": "markdown",
      "source": [
        "Level-Order (Incomplete)"
      ],
      "metadata": {
        "id": "nuQ0U1TRnfHF"
      }
    },
    {
      "cell_type": "code",
      "source": [
        "def level_order(n, l1):\n",
        "  if n!=None:\n",
        "    l1.append(n.elem)\n",
        "    if n.left!=None and n.left not in l1:\n",
        "      l1.append(n.left)\n",
        "    if n.right!=None and n.right not in l1:\n",
        "      l1.append(n.right)\n",
        "    if n.left!=None:\n",
        "      level_order(n.left, l1)\n",
        "    if n.right!=None:\n",
        "      level_order(n.right, l1)\n",
        "\n",
        "l1=[]\n",
        "level_order(root, l1)\n",
        "for i in l1:\n",
        "  print(i, end=\"--> \")"
      ],
      "metadata": {
        "colab": {
          "base_uri": "https://localhost:8080/"
        },
        "id": "0FKllb-PnikX",
        "outputId": "ea4cdbd3-6d9c-4aae-b368-84e97a157ce5"
      },
      "execution_count": null,
      "outputs": [
        {
          "output_type": "stream",
          "name": "stdout",
          "text": [
            "1--> <__main__.Node object at 0x7fcd203ff4c0>--> <__main__.Node object at 0x7fcd203ff490>--> 2--> <__main__.Node object at 0x7fcd203ff4f0>--> <__main__.Node object at 0x7fcd203ff520>--> 4--> 5--> 3--> "
          ]
        }
      ]
    },
    {
      "cell_type": "code",
      "source": [
        "def reverse_order(n):\n",
        "  if n!=None:\n",
        "    reverse_order(n.right)\n",
        "    reverse_order(n.left)\n",
        "    print(n.elem, end=\"--> \")\n",
        "reverse_order(root)"
      ],
      "metadata": {
        "colab": {
          "base_uri": "https://localhost:8080/"
        },
        "id": "a4Z2EgcwYGG6",
        "outputId": "6b71fc81-57bf-47fa-f79d-8a2f9934ff1f"
      },
      "execution_count": null,
      "outputs": [
        {
          "output_type": "stream",
          "name": "stdout",
          "text": [
            "3--> 5--> 4--> 2--> 1--> "
          ]
        }
      ]
    },
    {
      "cell_type": "code",
      "source": [
        "def get_level(node, node_level, elem):\n",
        "    if (node == None):\n",
        "        return 0\n",
        "    if (node.elem == elem):\n",
        "        return node_level\n",
        "    downlevel = get_level(node.left, node_level + 1, elem)\n",
        "    if (downlevel != 0):\n",
        "        return downlevel\n",
        "    downlevel = get_level(node.right, node_level + 1, elem)\n",
        "    return downlevel\n",
        "\n",
        "print(get_level(root,0, 4))\n",
        "'''Parameters are: root node, root node's level (0) and\n",
        "the element of the node whose level is to be found'''"
      ],
      "metadata": {
        "colab": {
          "base_uri": "https://localhost:8080/",
          "height": 54
        },
        "id": "WsA8BSD-aszA",
        "outputId": "2885fbf7-02e6-45e3-d0a7-12627d4763dc"
      },
      "execution_count": null,
      "outputs": [
        {
          "output_type": "stream",
          "name": "stdout",
          "text": [
            "2\n"
          ]
        },
        {
          "output_type": "execute_result",
          "data": {
            "text/plain": [
              "\"Parameters are: root node, root node's level (0) and \\nthe element of the node whose level is to be found\""
            ],
            "application/vnd.google.colaboratory.intrinsic+json": {
              "type": "string"
            }
          },
          "metadata": {},
          "execution_count": 11
        }
      ]
    },
    {
      "cell_type": "code",
      "source": [
        "def get_height(n):\n",
        "  if (n==None):\n",
        "    return -1\n",
        "  else:\n",
        "    return 1+max(get_height(n.left), get_height(n.right))\n",
        "\n",
        "print(get_height(root))"
      ],
      "metadata": {
        "colab": {
          "base_uri": "https://localhost:8080/"
        },
        "id": "tPHYaR7VsJkN",
        "outputId": "85eb6455-6d84-4ce6-800e-d0dc9464bad1"
      },
      "execution_count": null,
      "outputs": [
        {
          "output_type": "stream",
          "name": "stdout",
          "text": [
            "2\n"
          ]
        }
      ]
    },
    {
      "cell_type": "markdown",
      "source": [
        "No of Nodes"
      ],
      "metadata": {
        "id": "FsTMItvmyKfm"
      }
    },
    {
      "cell_type": "code",
      "source": [
        "def get_no_of_nodes(n):\n",
        "  if n==None:\n",
        "    return 0\n",
        "  else:\n",
        "    return 1 + get_no_of_nodes(n.left) + get_no_of_nodes(n.right)\n",
        "\n",
        "print(get_no_of_nodes(root))"
      ],
      "metadata": {
        "colab": {
          "base_uri": "https://localhost:8080/"
        },
        "id": "-ntw9vUUtBjF",
        "outputId": "6db5c8ef-6e90-417b-acd3-62cf63d22575"
      },
      "execution_count": null,
      "outputs": [
        {
          "output_type": "stream",
          "name": "stdout",
          "text": [
            "5\n"
          ]
        }
      ]
    },
    {
      "cell_type": "markdown",
      "source": [
        "Sequential Representation of Binary Tree (Using Array)"
      ],
      "metadata": {
        "id": "PmwIM6yD34it"
      }
    },
    {
      "cell_type": "code",
      "source": [
        "#Binary Tree from Array\n",
        "class Node:\n",
        "    def __init__(self, elem):\n",
        "        self.elem = elem\n",
        "        self.left = self.right = None\n",
        "\n",
        "def tree_construction(arr, i, n):\n",
        "    root = None\n",
        "    if i < n:\n",
        "        if (arr[i]!=None):\n",
        "          root = Node(arr[i])\n",
        "          root.left = tree_construction(arr, 2 * i, n) # insert left child\n",
        "          root.right = tree_construction(arr, 2 * i + 1, n) # insert right child\n",
        "    return root\n",
        "\n",
        "def print_inOrder(root): # function to print tree nodes in InOrder fashion\n",
        "    if root != None:\n",
        "        print_inOrder(root.left)\n",
        "        print(root.elem,end=\" \")\n",
        "        print_inOrder(root.right)\n",
        "\n",
        "array_rep = [None, \"A\", \"B\", \"C\", \"D\", \"E\", \"F\", \"G\", \"H\", None, None, None, \"I\", \"J\", None, \"K\"]\n",
        "root= tree_construction(array_rep, 1, len(array_rep))\n",
        "print_inOrder(root)"
      ],
      "metadata": {
        "colab": {
          "base_uri": "https://localhost:8080/"
        },
        "id": "7JdAmls94rfp",
        "outputId": "0043d7e2-1dcb-43f8-8f2f-25b7e9bf13aa"
      },
      "execution_count": null,
      "outputs": [
        {
          "output_type": "stream",
          "name": "stdout",
          "text": [
            "H D B E A I F J C G K "
          ]
        }
      ]
    },
    {
      "cell_type": "code",
      "source": [
        "#Array from Binary Tree\n",
        "# array_rep = [None] * 16 # Root height is 3, so total length= (3+1)**2\n",
        "\n",
        "def array_construction(n,i, array_rep):\n",
        "  if n==None:\n",
        "    return None\n",
        "  else:\n",
        "    array_rep[i]= n.elem\n",
        "    array_construction(n.left, 2*i, array_rep)\n",
        "    array_construction(n.right, 2*i+1, array_rep)\n",
        "\n",
        "array_rep = [None] * 16\n",
        "array_construction(root,1,array_rep)\n",
        "print(array_rep)"
      ],
      "metadata": {
        "colab": {
          "base_uri": "https://localhost:8080/"
        },
        "id": "VUWGLADF34sd",
        "outputId": "0ae2669c-b12e-4270-9b68-6b84fc94d65b"
      },
      "execution_count": null,
      "outputs": [
        {
          "output_type": "stream",
          "name": "stdout",
          "text": [
            "[None, 'A', 'B', 'C', 'D', 'E', 'F', 'G', 'H', None, None, None, 'I', 'J', None, 'K']\n"
          ]
        }
      ]
    },
    {
      "cell_type": "markdown",
      "source": [
        "Checking Tree Type"
      ],
      "metadata": {
        "id": "HId9WE7LGr_z"
      }
    },
    {
      "cell_type": "code",
      "source": [
        "# Count the number of nodes\n",
        "def count_nodes(root):\n",
        "    if root is None:\n",
        "        return 0\n",
        "    return (1 + count_nodes(root.left) + count_nodes(root.right))\n",
        "\n",
        "# Check if the tree is a complete binary tree\n",
        "def is_complete(root, index, numberNodes):\n",
        "    if root is None: # Check if the tree is empty\n",
        "        return True\n",
        "    if index >= numberNodes:\n",
        "        return False\n",
        "    return (is_complete(root.left, 2 * index + 1, numberNodes)\n",
        "    and is_complete(root.right, 2 * index + 2, numberNodes))\n",
        "\n",
        "if is_complete(root, 0, count_nodes(root)):\n",
        "    print(\"Complete binary tree\")\n",
        "else:\n",
        "    print(\"Not a complete binary tree\")"
      ],
      "metadata": {
        "colab": {
          "base_uri": "https://localhost:8080/"
        },
        "id": "zjQIiCsVGq-9",
        "outputId": "7463fe8a-05d4-495c-9eb4-4e57a64f93e1"
      },
      "execution_count": null,
      "outputs": [
        {
          "output_type": "stream",
          "name": "stdout",
          "text": [
            "Complete binary tree\n"
          ]
        }
      ]
    },
    {
      "cell_type": "code",
      "source": [
        "# Calculate the depth\n",
        "def calculateDepth(node):\n",
        "    d = 0\n",
        "    while (node is not None):\n",
        "        d += 1\n",
        "        node = node.left\n",
        "    return d\n",
        "\n",
        "# Check if the tree is a perfect binary tree\n",
        "def is_perfect(root, d, level=0):\n",
        "    if (root is None):# Check if the tree is empty\n",
        "        return True\n",
        "    if (root.left is None and root.right is None): # Check the presence of trees\n",
        "        return (d == level + 1)\n",
        "    if (root.left is None or root.right is None):\n",
        "        return False\n",
        "    return (is_perfect(root.left, d, level + 1)\n",
        "    and is_perfect(root.right, d, level + 1))\n",
        "\n",
        "if (is_perfect(root, calculateDepth(root))):\n",
        "    print(\"Perfect binary tree\")\n",
        "else:\n",
        "    print(\"Not a perfect binary tree\")"
      ],
      "metadata": {
        "colab": {
          "base_uri": "https://localhost:8080/"
        },
        "id": "iaHg6MN6Itji",
        "outputId": "8ea35a3d-9c4a-4984-beb3-bf4c203b977e"
      },
      "execution_count": null,
      "outputs": [
        {
          "output_type": "stream",
          "name": "stdout",
          "text": [
            "Not a perfect binary tree\n"
          ]
        }
      ]
    },
    {
      "cell_type": "code",
      "source": [
        "# Check if the tree is a full binary tree\n",
        "def isFullTree(root):\n",
        "    if root is None: # Tree empty case\n",
        "        return True\n",
        "    if root.left is None and root.right is None: # Check if any child is present\n",
        "        return True\n",
        "    if root.left is not None and root.right is not None:\n",
        "        return (isFullTree(root.left) and isFullTree(root.right))\n",
        "    return False\n",
        "\n",
        "if isFullTree(root):\n",
        "    print(\"Full binary tree\")\n",
        "else:\n",
        "    print(\"Not a full binary tree\")"
      ],
      "metadata": {
        "colab": {
          "base_uri": "https://localhost:8080/"
        },
        "id": "JGLtGjruItwc",
        "outputId": "3b90aa15-0ce0-4fa9-cb73-7f830c918343"
      },
      "execution_count": null,
      "outputs": [
        {
          "output_type": "stream",
          "name": "stdout",
          "text": [
            "Full binary tree\n"
          ]
        }
      ]
    },
    {
      "cell_type": "code",
      "source": [
        "# Calculate the height\n",
        "def get_height(n):\n",
        "  if (n==None):\n",
        "    return -1\n",
        "  else:\n",
        "    return 1+max(get_height(n.left), get_height(n.right))\n",
        "\n",
        "# Check if the tree is a balanced tree\n",
        "def isHeightBalanced(root, height):\n",
        "    if root is None:\n",
        "        return True\n",
        "    left_height = get_height(root.left)\n",
        "    right_height = get_height(root.right)\n",
        "    l = isHeightBalanced(root.left, left_height)\n",
        "    r = isHeightBalanced(root.right, right_height)\n",
        "    # height.height = max(left_height.height, right_height.height) + 1\n",
        "    if abs(left_height - right_height) <= 1:\n",
        "        return False\n",
        "    isHeightBalanced(root.left, height-1)\n",
        "    isHeightBalanced(root.right, height-1)\n",
        "\n",
        "    return True\n",
        "\n",
        "if isHeightBalanced(root, get_height(root)):\n",
        "    print('The tree is balanced')\n",
        "else:\n",
        "    print('The tree is not balanced')"
      ],
      "metadata": {
        "colab": {
          "base_uri": "https://localhost:8080/"
        },
        "id": "MygD2tVvPeH-",
        "outputId": "87815d01-858e-48ee-d097-81ae5e1e9c4e"
      },
      "execution_count": null,
      "outputs": [
        {
          "output_type": "stream",
          "name": "stdout",
          "text": [
            "The tree is not balanced\n"
          ]
        }
      ]
    },
    {
      "cell_type": "code",
      "source": [
        "#Creating a BST/Inserting in a BST\n",
        "class Node:\n",
        "    def __init__(self, elem):\n",
        "        self.elem = elem\n",
        "        self.left = self.right = None\n",
        "\n",
        "def addNode(root, i): #Adding Nodes\n",
        "  if i<root.elem and root.left==None:\n",
        "    n= Node(i)\n",
        "    root.left= n\n",
        "  elif i>root.elem and root.right==None:\n",
        "    n= Node(i)\n",
        "    root.right= n\n",
        "  if i<root.elem and root.left!=None:\n",
        "    addNode(root.left, i)\n",
        "  elif i>root.elem and root.right!=None:\n",
        "    addNode(root.right, i)\n",
        "\n",
        "def in_order(n): #To check the BST\n",
        "  if n!=None:\n",
        "    in_order(n.left)\n",
        "    print(n.elem, end=\"--> \")\n",
        "    in_order(n.right)\n",
        "\n",
        "#Driver Code\n",
        "l1=[70, 50, 40, 90, 20, 60, 20, 95, 99, 80, 85, 75]\n",
        "# l1=[40, 50, 70, 90, 95, 99]\n",
        "# l1= [20, 15, 10, 5, 2, 8]\n",
        "root = Node(l1[0])\n",
        "for i in l1[1:]:\n",
        "  addNode(root, i)\n",
        "in_order(root)\n",
        "print()\n",
        "# addNode(root, 55)\n",
        "# in_order(root)"
      ],
      "metadata": {
        "colab": {
          "base_uri": "https://localhost:8080/"
        },
        "id": "tdgrmLNujFLU",
        "outputId": "4948cfdf-5c44-4c4f-c207-0a15401533bb"
      },
      "execution_count": null,
      "outputs": [
        {
          "output_type": "stream",
          "name": "stdout",
          "text": [
            "20--> 40--> 50--> 60--> 70--> 75--> 80--> 85--> 90--> 95--> 99--> \n"
          ]
        }
      ]
    },
    {
      "cell_type": "markdown",
      "source": [
        "Search for an Element in BST"
      ],
      "metadata": {
        "id": "y_BEvacN2Xh8"
      }
    },
    {
      "cell_type": "code",
      "source": [
        "def search(root, item):\n",
        "  if root.elem==item:\n",
        "    return root\n",
        "  elif (item<root.elem and root.left!=None):\n",
        "    return search(root.left, item)\n",
        "  elif (item>root.elem and root.right!=None):\n",
        "    return search(root.right, item)\n",
        "  elif (item<root.elem and root.left==None):\n",
        "    return None\n",
        "  elif (item>root.elem and root.right==None):\n",
        "    return None\n",
        "\n",
        "x= search(root,40)\n",
        "if x==None:\n",
        "  print(\"Not found\")\n",
        "else:\n",
        "  print(\"Found\")"
      ],
      "metadata": {
        "colab": {
          "base_uri": "https://localhost:8080/"
        },
        "id": "-0eeQBbl2W-z",
        "outputId": "418d43be-31f5-4f32-a9b6-a996df6eb714"
      },
      "execution_count": null,
      "outputs": [
        {
          "output_type": "stream",
          "name": "stdout",
          "text": [
            "Found\n"
          ]
        }
      ]
    },
    {
      "cell_type": "markdown",
      "source": [
        "Balancing BST"
      ],
      "metadata": {
        "id": "ZL1xjnIVPJMH"
      }
    },
    {
      "cell_type": "code",
      "source": [
        "#Appends into a list with tree nodes using inorder traversal\n",
        "def pushTreeNodes(root, arr):\n",
        "    if root is None:\n",
        "        return\n",
        "    pushTreeNodes(root.left, arr)\n",
        "    arr.append(root)\n",
        "    pushTreeNodes(root.right, arr)\n",
        "\n",
        "# Recursive function to construct a height-balanced BST from\n",
        "# given nodes in sorted order\n",
        "def buildBalancedBST(arr, start, end):\n",
        "    if start > end:\n",
        "        return None\n",
        "    mid = (start + end) // 2 # find the middle index\n",
        "    root = arr[mid] # The root node will be a node present at the mid-index\n",
        "    # recursively construct left and right subtree\n",
        "    root.left = buildBalancedBST(arr, start, mid - 1)\n",
        "    root.right = buildBalancedBST(arr, mid + 1, end)\n",
        "    return root\n",
        "\n",
        "def pre_order(n): #preorder traversal\n",
        "  if n!=None:\n",
        "    print(n.elem, end=\"--> \")\n",
        "    pre_order(n.left)\n",
        "    pre_order(n.right)\n",
        "\n",
        "print(f\"Unbalance State Pre-Order:\")\n",
        "pre_order(root) #preorder traversal\n",
        "arr = []\n",
        "pushTreeNodes(root, arr)\n",
        "newRoot= buildBalancedBST(arr, 0, len(arr) - 1)\n",
        "print(f\"\\nBalanced State Pre-Order:\")\n",
        "pre_order(newRoot)"
      ],
      "metadata": {
        "colab": {
          "base_uri": "https://localhost:8080/"
        },
        "id": "i4TZnhv-Oc2c",
        "outputId": "1b4c7ff9-15fe-4b37-c6da-1543086e1223"
      },
      "execution_count": null,
      "outputs": [
        {
          "output_type": "stream",
          "name": "stdout",
          "text": [
            "Unbalance State Pre-Order:\n",
            "40--> 50--> 70--> 90--> 95--> 99--> \n",
            "Balanced State Pre-Order:\n",
            "70--> 40--> 50--> 95--> 90--> 99--> "
          ]
        }
      ]
    },
    {
      "cell_type": "markdown",
      "source": [
        "Deletion in BST"
      ],
      "metadata": {
        "id": "Mg-jCxaob0sK"
      }
    },
    {
      "cell_type": "code",
      "source": [
        "#Method to find the leftmost leaf\n",
        "def minValueNode(node):\n",
        "    current = node\n",
        "    # loop down to find the leftmost leaf\n",
        "    while(current.left is not None):\n",
        "        current = current.left\n",
        "    return current\n",
        "\n",
        "# delete the key and returns the new root\n",
        "def deleteNode(root, key):\n",
        "    if root is None: # Base Case\n",
        "        return root\n",
        "    # If the key to be deleted is smaller than the root's key then it lies in  left subtree\n",
        "    if key < root.elem:\n",
        "        root.left = deleteNode(root.left, key)\n",
        "    # If the kye to be delete is greater than the root's key then it lies in right subtree\n",
        "    elif(key > root.elem):\n",
        "        root.right = deleteNode(root.right, key)\n",
        "    # If key is same as root's key, then this is the node to be deleted\n",
        "    else: # Node with only one child or no child\n",
        "        if root.left is None:\n",
        "            temp = root.right\n",
        "            root = None\n",
        "            return temp\n",
        "        elif root.right is None:\n",
        "            temp = root.left\n",
        "            root = None\n",
        "            return temp\n",
        "\n",
        "        # Node with two children: Get the inorder successor (smallest in the right subtree)\n",
        "        temp = minValueNode(root.right)\n",
        "        root.key = temp.key # Copy the inorder successor's content to this node\n",
        "        root.right = deleteNode(root.right, temp.key) # Delete the inorder successor\n",
        "    return root\n",
        "\n",
        "root = deleteNode(root, 40)\n",
        "print(\"Inorder traversal of the modified tree\")\n",
        "in_order(root)"
      ],
      "metadata": {
        "colab": {
          "base_uri": "https://localhost:8080/"
        },
        "id": "vcIc9v8vb2bP",
        "outputId": "0a6e1594-31a9-4cde-8638-611a8f912adc"
      },
      "execution_count": null,
      "outputs": [
        {
          "output_type": "stream",
          "name": "stdout",
          "text": [
            "Inorder traversal of the modified tree\n",
            "50--> "
          ]
        }
      ]
    },
    {
      "cell_type": "code",
      "source": [
        "def minValueNode(node):\n",
        "    current = node\n",
        "    while(current.left is not None): # loop down to find the leftmost leaf\n",
        "        current = current.left\n",
        "    return current\n",
        "# Given a binary search tree and a key, this function\n",
        "# delete the key and returns the new root\n",
        "\n",
        "\n",
        "def deleteNode(root, key):\n",
        "    if root is None:\n",
        "        return root\n",
        "    # If the key to be deleted is smaller than the root's key then it lies in  left subtree\n",
        "    if key < root.elem:\n",
        "        root.left = deleteNode(root.left, key)\n",
        "    # If the kye to be delete is greater than the root's key then it lies in right subtree\n",
        "    elif(key > root.elem):\n",
        "        root.right = deleteNode(root.right, key)\n",
        "\n",
        "    # If key is same as root's key, then this is the node to be deleted\n",
        "    else:\n",
        "        # Node with only one child or no child\n",
        "        if root.left is None:\n",
        "            temp = root.right\n",
        "            root = None\n",
        "            return temp\n",
        "        elif root.right is None:\n",
        "            temp = root.left\n",
        "            root = None\n",
        "            return temp\n",
        "        # Node with two children:\n",
        "        # Get the inorder successor (smallest in the right subtree)\n",
        "        temp = minValueNode(root.right)\n",
        "        # Copy the inorder successor's content to this node\n",
        "        root.key = temp.elem\n",
        "        root.right = deleteNode(root.right, temp.elem) # Delete the inorder successor\n",
        "    return root\n",
        "\n",
        "print(\"Inorder traversal of the given tree\")\n",
        "in_order(root)\n",
        "print(\"\\nDelete 20\")\n",
        "root = deleteNode(root, 20)\n",
        "print(\"Inorder traversal of the modified tree\")\n",
        "in_order(root)\n",
        "print(\"\\nDelete 100\")\n",
        "root = deleteNode(root, 100)\n",
        "print(\"Inorder traversal of the modified tree\")\n",
        "in_order(root)\n",
        "print(\"\\nDelete 70\")\n",
        "root = deleteNode(root, 70)\n",
        "print(\"Inorder traversal of the modified tree\")\n",
        "in_order(root)"
      ],
      "metadata": {
        "colab": {
          "base_uri": "https://localhost:8080/"
        },
        "id": "1oGtVzN7jV0G",
        "outputId": "31846b65-a1bf-4652-e3b5-4c0b10674cf0"
      },
      "execution_count": null,
      "outputs": [
        {
          "output_type": "stream",
          "name": "stdout",
          "text": [
            "Inorder traversal of the given tree\n",
            "20--> 40--> 50--> 60--> 70--> 75--> 80--> 85--> 90--> 95--> 99--> \n",
            "Delete 20\n",
            "Inorder traversal of the modified tree\n",
            "40--> 50--> 60--> 70--> 75--> 80--> 85--> 90--> 95--> 99--> \n",
            "Delete 100\n",
            "Inorder traversal of the modified tree\n",
            "40--> 50--> 60--> 70--> 75--> 80--> 85--> 90--> 95--> 99--> \n",
            "Delete 70\n",
            "Inorder traversal of the modified tree\n",
            "40--> 50--> 60--> 70--> 80--> 85--> 90--> 95--> 99--> "
          ]
        }
      ]
    },
    {
      "cell_type": "code",
      "source": [
        "[None, 15, 25, 35, 10, 35, 15, 18, None, None, None, 33, None, 5, None, 19, None, None, None, 16]"
      ],
      "metadata": {
        "id": "VP7TyJAr0TGJ"
      },
      "execution_count": null,
      "outputs": []
    },
    {
      "cell_type": "markdown",
      "source": [
        "Tree Basic Codes"
      ],
      "metadata": {
        "id": "nlAkMOVu0t_q"
      }
    },
    {
      "cell_type": "code",
      "source": [
        "class Node:\n",
        "    def __init__(self, elem):\n",
        "        self.elem = elem\n",
        "        self.children = []\n",
        "\n",
        "root = Node(1)\n",
        "root.children += [Node(2)]\n",
        "root.children += [Node(3)]\n",
        "root.children += [Node(4)]\n",
        "root.children[0].children += [Node(5)]\n",
        "root.children[0].children += [Node(6)]\n",
        "root.children[1].children += [Node(7)]\n",
        "root.children[0].children[0].children += [Node(11)]"
      ],
      "metadata": {
        "id": "uzwHJEth0tZx"
      },
      "execution_count": null,
      "outputs": []
    },
    {
      "cell_type": "code",
      "source": [
        "class Node:\n",
        "    def __init__(self,elem,next):\n",
        "        self.next=next\n",
        "        self.elem=elem\n",
        "\n",
        "class LinkList:\n",
        "    def __init__(self,arr):\n",
        "        if type(arr)==list:\n",
        "            self.head=Node(arr[0],None)\n",
        "            tail=self.head\n",
        "            for i in range(1,len(arr)):\n",
        "                n=Node(arr[i],None)\n",
        "                tail.next=n\n",
        "                tail=tail.next\n",
        "        else:\n",
        "            self.head=arr\n",
        "\n",
        "    def printlist(self):\n",
        "      n=self.head\n",
        "      while n!= None:\n",
        "        print(n.elem)\n",
        "        n=n.next\n",
        "\n",
        "    def rightshift(self):\n",
        "        templast=self.head.next\n",
        "        print(templast.elem)\n",
        "        tempsecondlas =self.head\n",
        "        while templast.next!=None:\n",
        "            templast=templast.next\n",
        "            tempsecondlas=tempsecondlas.next\n",
        "        templast.next=self.head\n",
        "        tempsecondlas.next=None\n",
        "        self.head=templast\n",
        "        return self.head\n",
        "h=[1,2,3,4,5]\n",
        "h1=LinkList(h)\n",
        "h1.printlist()\n",
        "h1.rightshift()"
      ],
      "metadata": {
        "id": "cOs3cPU83kJE",
        "colab": {
          "base_uri": "https://localhost:8080/"
        },
        "outputId": "37e4bc02-06db-4fd7-a543-98a8668072d0"
      },
      "execution_count": null,
      "outputs": [
        {
          "output_type": "stream",
          "name": "stdout",
          "text": [
            "1\n",
            "2\n",
            "3\n",
            "4\n",
            "5\n",
            "2\n"
          ]
        },
        {
          "output_type": "execute_result",
          "data": {
            "text/plain": [
              "<__main__.Node at 0x7fd7627cf520>"
            ]
          },
          "metadata": {},
          "execution_count": 10
        }
      ]
    }
  ]
}