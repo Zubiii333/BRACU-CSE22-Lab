{
  "nbformat": 4,
  "nbformat_minor": 0,
  "metadata": {
    "colab": {
      "provenance": [],
      "include_colab_link": true
    },
    "kernelspec": {
      "name": "python3",
      "display_name": "Python 3"
    },
    "language_info": {
      "name": "python"
    }
  },
  "cells": [
    {
      "cell_type": "markdown",
      "metadata": {
        "id": "view-in-github",
        "colab_type": "text"
      },
      "source": [
        "<a href=\"https://colab.research.google.com/github/Zubiii333/BRACU-CSE22-Lab/blob/main/Lab7_Hashing.ipynb\" target=\"_parent\"><img src=\"https://colab.research.google.com/assets/colab-badge.svg\" alt=\"Open In Colab\"/></a>"
      ]
    },
    {
      "cell_type": "code",
      "execution_count": null,
      "metadata": {
        "colab": {
          "base_uri": "https://localhost:8080/"
        },
        "id": "CvHWU9VwU1DB",
        "outputId": "b44c4e7f-c399-426d-b9c7-da68165441a4"
      },
      "outputs": [
        {
          "output_type": "stream",
          "name": "stdout",
          "text": [
            "Collecting fhm-unittest\n",
            "  Downloading fhm_unittest-1.0.1-py3-none-any.whl (2.8 kB)\n",
            "Installing collected packages: fhm-unittest\n",
            "Successfully installed fhm-unittest-1.0.1\n",
            "Collecting fuzzywuzzy\n",
            "  Downloading fuzzywuzzy-0.18.0-py2.py3-none-any.whl (18 kB)\n",
            "Installing collected packages: fuzzywuzzy\n",
            "Successfully installed fuzzywuzzy-0.18.0\n"
          ]
        },
        {
          "output_type": "stream",
          "name": "stderr",
          "text": [
            "/usr/local/lib/python3.10/dist-packages/fuzzywuzzy/fuzz.py:11: UserWarning: Using slow pure-python SequenceMatcher. Install python-Levenshtein to remove this warning\n",
            "  warnings.warn('Using slow pure-python SequenceMatcher. Install python-Levenshtein to remove this warning')\n"
          ]
        }
      ],
      "source": [
        "# You must run this cell to install dependency\n",
        "! pip3 install fhm-unittest\n",
        "! pip3 install fuzzywuzzy\n",
        "import fhm_unittest as unittest\n",
        "import numpy as np"
      ]
    },
    {
      "cell_type": "markdown",
      "source": [
        "Run this cell first"
      ],
      "metadata": {
        "id": "uuc9lAd6YgTI"
      }
    },
    {
      "cell_type": "code",
      "source": [
        "class Node:\n",
        "  def __init__(self, elem, next = None):\n",
        "    self.elem, self.next = elem, next\n",
        "\n",
        "def create_linked_list(arr):\n",
        "  head = Node(arr[0])\n",
        "  tail = head\n",
        "  for i in arr[1:]:\n",
        "    new_node = Node(i)\n",
        "    tail.next = new_node\n",
        "    tail = new_node\n",
        "  return head\n",
        "\n",
        "def count(head):\n",
        "  count = 0\n",
        "  while head != None:\n",
        "    count += 1\n",
        "    head = head.next\n",
        "  return count\n",
        "\n",
        "def print_linked_list(head):\n",
        "  while head != None:\n",
        "    print(head.elem, end = '-> ')\n",
        "    head = head.next\n",
        "  print('None')\n",
        "  print()"
      ],
      "metadata": {
        "id": "BQi67-3NU3GS"
      },
      "execution_count": null,
      "outputs": []
    },
    {
      "cell_type": "markdown",
      "source": [
        "#TASK 1\n",
        "> You can use Dictionary, Set and membership operator (in/not in) for this task. Membership Operator takes constant time in these unordered collections.\n",
        "\n",
        "\n",
        "\n",
        "However,\n",
        "\n",
        "\n",
        ">  ***DO NOT USE*** Membership Operator in List, String for this task.\n",
        "\n",
        "> You can traverse the array ***ONLY ONCE*** (i.e. no nested loop).\n",
        "\n",
        "\n",
        "\n"
      ],
      "metadata": {
        "id": "34hWSyDJYn25"
      }
    },
    {
      "cell_type": "code",
      "source": [
        "#Do by yourself\n",
        "def nerdy_run(path,k):\n",
        "  pass\n",
        "  return None"
      ],
      "metadata": {
        "id": "mi8D3lXRaEDL"
      },
      "execution_count": null,
      "outputs": []
    },
    {
      "cell_type": "code",
      "source": [
        "def main():\n",
        "\n",
        "  path = [6,7,8,9,5,9]\n",
        "  k = 3\n",
        "  result = nerdy_run(path,k)\n",
        "  unittest.output_test(result, 9)\n",
        "  print(f'Duplicate value within range {k} is: {result}') #Duplicate value within range 3 is: 9\n",
        "\n",
        "  print('===================================')\n",
        "  path = [6,7,8,9,5,6]\n",
        "  k = 4\n",
        "  result = nerdy_run(path,k)\n",
        "  unittest.output_test(result, None)\n",
        "  print(f'Duplicate value within range {k} is: {result}') #Duplicate value within range 4 is: None\n",
        "\n",
        "  print('===================================')\n",
        "  path = [0.21,1.21,4.67,0.21,0.45,1.9]\n",
        "  k = 7\n",
        "  result = nerdy_run(path,k)\n",
        "  unittest.output_test(result, 0.21)\n",
        "  print(f'Duplicate value within range {k} is: {result}') #Duplicate value within range 7 is: 0.21\n",
        "\n",
        "\n",
        "if __name__ == \"__main__\":\n",
        "  main()"
      ],
      "metadata": {
        "id": "eHa5uJahWA3o"
      },
      "execution_count": null,
      "outputs": []
    },
    {
      "cell_type": "markdown",
      "source": [
        "#TASK 2\n",
        "Complete the following methods:\n",
        "\n",
        ">  __hash_function()\n",
        "\n",
        "> search_hashtable()\n",
        "\n",
        "\n",
        "\n"
      ],
      "metadata": {
        "id": "B92R0bs3X_kI"
      }
    },
    {
      "cell_type": "code",
      "source": [
        "class Node_pair:\n",
        "  def __init__(self, key, value, next = None):\n",
        "    self.key, self.value, self.next = key, value, next\n",
        "\n",
        "\n",
        "class Hashtable:\n",
        "  def __init__(self, size):\n",
        "    self.ht = [None]*size\n",
        "\n",
        "\n",
        "  def insert(self, s):\n",
        "    if self.search_hashtable(s) == 'Found':\n",
        "      print(s,'Already Inserted. Cannot reinsert.')\n",
        "      print('===============================')\n",
        "      return\n",
        "    hashed_index = self.__hash_function(s[0])\n",
        "    pair = Node_pair(s[0], s[1])\n",
        "    if self.ht[hashed_index] == None:\n",
        "      self.ht[hashed_index] = pair\n",
        "    else:\n",
        "      pair.next = self.ht[hashed_index]\n",
        "      self.ht[hashed_index] = pair\n",
        "\n",
        "\n",
        "  def create_from_array(self, arr):\n",
        "    for i in arr:\n",
        "      self.insert(i)\n",
        "\n",
        "  def print_hashtable(self):\n",
        "    idx = 0\n",
        "    for i in self.ht:\n",
        "      print(idx, ':', end = ' ')\n",
        "      head = i\n",
        "      while head != None:\n",
        "        print(f'(key: {head.key}, value: {head.value})', end = '-->')\n",
        "        head = head.next\n",
        "      print('None')\n",
        "      print()\n",
        "      idx += 1\n",
        "\n",
        "\n",
        "  #Do by yourself\n",
        "  def __hash_function(self, s):\n",
        "    pass\n",
        "    return None\n",
        "\n",
        "\n",
        "  #Do by yourself\n",
        "  def search_hashtable(self, s):\n",
        "    pass\n",
        "    return None\n"
      ],
      "metadata": {
        "id": "1aobPPrAVXCB"
      },
      "execution_count": null,
      "outputs": []
    },
    {
      "cell_type": "code",
      "source": [
        "arr = [('Colt', 360), ('Cordelius', 730), ('Shelly', 300), ('Doug', 1200), ('Emz', 520), ('Bo', 580)]\n",
        "ht = Hashtable(5)\n",
        "ht.create_from_array(arr)\n",
        "ht.print_hashtable()\n",
        "\n",
        "print('======================')\n",
        "result = ht.search_hashtable(('Doug', 1200))\n",
        "unittest.output_test(result, 'Found')\n",
        "print(f'(Doug, 1200) {result}')\n",
        "\n",
        "print('======================')\n",
        "ht.insert(('Doug', 1200))\n",
        "ht.print_hashtable()\n",
        "\n",
        "print('======================')\n",
        "result = ht.search_hashtable(('Edgar', 320))\n",
        "unittest.output_test(result, 'Not Found')\n",
        "print(f'(Edgar, 320) {result}')\n",
        "\n",
        "print('======================')\n",
        "ht.insert(('Edgar', 320))\n",
        "ht.print_hashtable()\n",
        "\n",
        "print('======================')\n",
        "result = ht.search_hashtable(('Edgar', 320))\n",
        "unittest.output_test(result, 'Found')\n",
        "print(f'(Edgar, 320) {result}')"
      ],
      "metadata": {
        "colab": {
          "base_uri": "https://localhost:8080/"
        },
        "id": "dpDpMZSgV_XU",
        "outputId": "9227f2cf-4179-42ca-f376-f1885ccfd906"
      },
      "execution_count": null,
      "outputs": [
        {
          "output_type": "stream",
          "name": "stdout",
          "text": [
            "0 : None\n",
            "\n",
            "1 : (key: Bo, value: 580)-->None\n",
            "\n",
            "2 : (key: Emz, value: 520)-->(key: Colt, value: 360)-->None\n",
            "\n",
            "3 : (key: Shelly, value: 300)-->None\n",
            "\n",
            "4 : (key: Doug, value: 1200)-->(key: Cordelius, value: 730)-->None\n",
            "\n",
            "======================\n",
            "Accepted\n",
            "(Doug, 1200) Found\n",
            "======================\n",
            "('Doug', 1200) Already Inserted. Cannot reinsert.\n",
            "===============================\n",
            "0 : None\n",
            "\n",
            "1 : (key: Bo, value: 580)-->None\n",
            "\n",
            "2 : (key: Emz, value: 520)-->(key: Colt, value: 360)-->None\n",
            "\n",
            "3 : (key: Shelly, value: 300)-->None\n",
            "\n",
            "4 : (key: Doug, value: 1200)-->(key: Cordelius, value: 730)-->None\n",
            "\n",
            "======================\n",
            "Accepted\n",
            "(Edgar, 320) Not Found\n",
            "======================\n",
            "0 : (key: Edgar, value: 320)-->None\n",
            "\n",
            "1 : (key: Bo, value: 580)-->None\n",
            "\n",
            "2 : (key: Emz, value: 520)-->(key: Colt, value: 360)-->None\n",
            "\n",
            "3 : (key: Shelly, value: 300)-->None\n",
            "\n",
            "4 : (key: Doug, value: 1200)-->(key: Cordelius, value: 730)-->None\n",
            "\n",
            "======================\n",
            "Accepted\n",
            "(Edgar, 320) Found\n"
          ]
        }
      ]
    },
    {
      "cell_type": "markdown",
      "source": [
        "#TASK 3\n",
        "Complete the following methods:\n",
        "\n",
        "\n",
        "\n",
        "> create_layered_hashtable()\n",
        "\n",
        "> search_element()"
      ],
      "metadata": {
        "id": "DzykBxGicdBw"
      }
    },
    {
      "cell_type": "code",
      "source": [
        "class Layered_Hashtable:\n",
        "  def __init__(self, express_array_size):\n",
        "    self.express_array = [None] * express_array_size\n",
        "\n",
        "  def print_express_lane(self):\n",
        "    for i in self.express_array:\n",
        "      print(i.elem, end = ' '*10)\n",
        "    print()\n",
        "\n",
        "  def print_layered_hashtable(self):\n",
        "    print('Express Lane is:')\n",
        "    self.print_express_lane()\n",
        "\n",
        "    for i in range (len(self.express_array)-1):\n",
        "      node = self.express_array[i]\n",
        "      next_node = self.express_array[i+1]\n",
        "      print(f'Normal Lane Nodes between Express Lane Node {node.elem} and Express Lane Node {next_node.elem} are: ')\n",
        "      while node != next_node:\n",
        "        print(node.elem, end = '->')\n",
        "        node = node.next\n",
        "      print()\n",
        "\n",
        "    print(f'Normal Lane Nodes ending in the Express Lane Node: {node.elem}')\n",
        "\n",
        "  #DO IT YOURSELF\n",
        "  def create_layered_hashtable(self, linked_list_head):\n",
        "    pass\n",
        "\n",
        "  #DO IT YOURSELF\n",
        "  def search_element(self,k):\n",
        "    pass\n",
        "    return None"
      ],
      "metadata": {
        "id": "MkJtkO-ydCSw"
      },
      "execution_count": null,
      "outputs": []
    },
    {
      "cell_type": "code",
      "source": [
        "arr = [4,6,9,18,25,37,62,67,79,84]\n",
        "head = create_linked_list(arr)\n",
        "express_array_size = 4\n",
        "\n",
        "layered_ht = Layered_Hashtable(express_array_size)\n",
        "layered_ht.create_layered_hashtable(head)\n",
        "layered_ht.print_layered_hashtable()\n",
        "\n",
        "print('==========1===========')\n",
        "result = layered_ht.search_element(67)\n",
        "unittest.output_test(result, 'Found')\n",
        "print(f'67 {result}') #67 Found\n",
        "\n",
        "print('==========2===========')\n",
        "result = layered_ht.search_element(84)\n",
        "unittest.output_test(result, 'Found')\n",
        "print(f'84 {result}') #84 Found\n",
        "\n",
        "print('==========3===========')\n",
        "result = layered_ht.search_element(1)\n",
        "unittest.output_test(result, 'Not Found')\n",
        "print(f'1 {result}') #1 Not Found\n",
        "\n",
        "print('==========4===========')\n",
        "result = layered_ht.search_element(92)\n",
        "unittest.output_test(result, 'Not Found')\n",
        "print(f'92 {result}') #92 Not Found\n",
        "\n",
        "print('==========5===========')\n",
        "result = layered_ht.search_element(41)\n",
        "unittest.output_test(result, 'Not Found')\n",
        "print(f'41 {result}') #41 Not Found"
      ],
      "metadata": {
        "colab": {
          "base_uri": "https://localhost:8080/"
        },
        "id": "9lxnCzZ6fymw",
        "outputId": "c62fae69-7ea9-4038-dcdc-f00e4a53d9cd"
      },
      "execution_count": null,
      "outputs": [
        {
          "output_type": "stream",
          "name": "stdout",
          "text": [
            "Express Lane is:\n",
            "4          18          62          84          \n",
            "Normal Lane Nodes between Express Lane Node 4 and Express Lane Node 18 are: \n",
            "4->6->9->\n",
            "Normal Lane Nodes between Express Lane Node 18 and Express Lane Node 62 are: \n",
            "18->25->37->\n",
            "Normal Lane Nodes between Express Lane Node 62 and Express Lane Node 84 are: \n",
            "62->67->79->\n",
            "Normal Lane Nodes ending in the Express Lane Node: 84\n",
            "==========1===========\n",
            "Accepted\n",
            "67 Found\n",
            "==========2===========\n",
            "Accepted\n",
            "84 Found\n",
            "==========3===========\n",
            "Accepted\n",
            "1 Not Found\n",
            "==========4===========\n",
            "Accepted\n",
            "92 Not Found\n",
            "==========5===========\n",
            "Accepted\n",
            "41 Not Found\n"
          ]
        }
      ]
    },
    {
      "cell_type": "code",
      "source": [],
      "metadata": {
        "id": "mEVgVZfGf8tN"
      },
      "execution_count": null,
      "outputs": []
    }
  ]
}